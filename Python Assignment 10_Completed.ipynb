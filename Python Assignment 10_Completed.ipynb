{
 "cells": [
  {
   "cell_type": "markdown",
   "id": "3d8d7fa2",
   "metadata": {},
   "source": [
    "# 1. Write a Python program to find sum of elements in list?"
   ]
  },
  {
   "cell_type": "code",
   "execution_count": 1,
   "id": "1b66a2b8",
   "metadata": {},
   "outputs": [
    {
     "data": {
      "text/plain": [
       "25"
      ]
     },
     "execution_count": 1,
     "metadata": {},
     "output_type": "execute_result"
    }
   ],
   "source": [
    "def sum_list(list_input):\n",
    "    sum=0\n",
    "    if type(list_input)!=list:\n",
    "        print(\"Please provide list only\")\n",
    "    if type(list_input)==list:\n",
    "        \n",
    "        for i in list_input:\n",
    "            sum=sum+i\n",
    "        return sum\n",
    "sum_list([9,0,9,7])"
   ]
  },
  {
   "cell_type": "markdown",
   "id": "1926492f",
   "metadata": {},
   "source": [
    "# 2. Write a Python program to Multiply all numbers in the list?"
   ]
  },
  {
   "cell_type": "code",
   "execution_count": 2,
   "id": "777621cd",
   "metadata": {},
   "outputs": [
    {
     "data": {
      "text/plain": [
       "567"
      ]
     },
     "execution_count": 2,
     "metadata": {},
     "output_type": "execute_result"
    }
   ],
   "source": [
    "def multiply_list(list_input):\n",
    "    multiply=1\n",
    "    if type(list_input)!=list:\n",
    "        print(\"Please provide list only\")\n",
    "    if type(list_input)==list:\n",
    "        \n",
    "        for i in list_input:\n",
    "            if type(i)==int or type(i)==float:\n",
    "                \n",
    "                multiply=multiply*i\n",
    "        return multiply\n",
    "multiply_list([9,9,7])"
   ]
  },
  {
   "cell_type": "markdown",
   "id": "44b2451a",
   "metadata": {},
   "source": [
    "# 3. Write a Python program to find smallest number in a list?"
   ]
  },
  {
   "cell_type": "code",
   "execution_count": 3,
   "id": "b7ae490a",
   "metadata": {},
   "outputs": [
    {
     "data": {
      "text/plain": [
       "12"
      ]
     },
     "execution_count": 3,
     "metadata": {},
     "output_type": "execute_result"
    }
   ],
   "source": [
    "def minimum_list(list_input):\n",
    "    minimum=\"NA\"\n",
    "    if type(list_input)!=list:\n",
    "        print(\"Please provide list only\")\n",
    "    if type(list_input)==list:\n",
    "        \n",
    "        for i in list_input:\n",
    "            if type(i)==int or type(i)==float:\n",
    "                \n",
    "                minimum=min(list_input)\n",
    "        return minimum\n",
    "minimum_list([1000,12,35])"
   ]
  },
  {
   "cell_type": "markdown",
   "id": "20febfe2",
   "metadata": {},
   "source": [
    "# 4. Write a Python program to find largest number in a list?"
   ]
  },
  {
   "cell_type": "code",
   "execution_count": 4,
   "id": "a404a71c",
   "metadata": {},
   "outputs": [
    {
     "data": {
      "text/plain": [
       "1001"
      ]
     },
     "execution_count": 4,
     "metadata": {},
     "output_type": "execute_result"
    }
   ],
   "source": [
    "def maximum_list(list_input):\n",
    "    maximum=\"NA\"\n",
    "    if type(list_input)!=list:\n",
    "        print(\"Please provide list only\")\n",
    "    if type(list_input)==list:\n",
    "        \n",
    "        for i in list_input:\n",
    "            if type(i)==int or type(i)==float:\n",
    "                \n",
    "                maximum=max(list_input)\n",
    "        return maximum\n",
    "maximum_list([1001,12,1000.99999])"
   ]
  },
  {
   "cell_type": "markdown",
   "id": "f2e3c8c8",
   "metadata": {},
   "source": [
    "# 5. Write a Python program to find second largest number in a list?"
   ]
  },
  {
   "cell_type": "code",
   "execution_count": 5,
   "id": "fbeacbfe",
   "metadata": {},
   "outputs": [
    {
     "data": {
      "text/plain": [
       "199"
      ]
     },
     "execution_count": 5,
     "metadata": {},
     "output_type": "execute_result"
    }
   ],
   "source": [
    "def snd_maximum_list(list_input):\n",
    "    snd_maximum=\"NA\"\n",
    "    if type(list_input)!=list:\n",
    "        print(\"Please provide list only\")\n",
    "    if type(list_input)==list:\n",
    "        \n",
    "        for i in list_input:\n",
    "            if type(i)==int or type(i)==float:\n",
    "                list_input.remove(max(list_input))\n",
    "                break\n",
    "        return max(list_input)\n",
    "snd_maximum_list([112,199,0,0.4424,534,56])"
   ]
  },
  {
   "cell_type": "markdown",
   "id": "5e69099e",
   "metadata": {},
   "source": [
    "# 6. Write a Python program to find N largest elements from a list?"
   ]
  },
  {
   "cell_type": "code",
   "execution_count": 6,
   "id": "b004d6d9",
   "metadata": {},
   "outputs": [
    {
     "data": {
      "text/plain": [
       "[113, 79, 78, 57, 45]"
      ]
     },
     "execution_count": 6,
     "metadata": {},
     "output_type": "execute_result"
    }
   ],
   "source": [
    "def n_largest_list(n,list_input):\n",
    "    l=[]\n",
    "    m=n+1\n",
    "    if type(list_input)!=list:\n",
    "        print(\"Please provide list only\")\n",
    "    if type(list_input)==list:\n",
    "        for i in range(n):\n",
    "            l.append(max(list_input))\n",
    "            list_input.remove(max(list_input))\n",
    "        return l\n",
    "n_largest_list(5,[113,79,43,57,10,45,78,0])"
   ]
  },
  {
   "cell_type": "markdown",
   "id": "35d052a4",
   "metadata": {},
   "source": [
    "# 7. Write a Python program to print even numbers in a list?"
   ]
  },
  {
   "cell_type": "code",
   "execution_count": 7,
   "id": "53854cc3",
   "metadata": {},
   "outputs": [
    {
     "data": {
      "text/plain": [
       "[534, 788, 56]"
      ]
     },
     "execution_count": 7,
     "metadata": {},
     "output_type": "execute_result"
    }
   ],
   "source": [
    "def even_num_list(list_input):\n",
    "    l=[]\n",
    "    if type(list_input)!=list:\n",
    "        print(\"Please provide list only\")\n",
    "    if type(list_input)==list:\n",
    "        for i in list_input:\n",
    "            if type(i)==int and i>=2:\n",
    "                if i%2==0:\n",
    "                    l.append(i)\n",
    "        return l\n",
    "even_num_list([113,79,43,57,534,788,56,0.08,2+7j,\"lantav\"])"
   ]
  },
  {
   "cell_type": "markdown",
   "id": "8a4b8668",
   "metadata": {},
   "source": [
    "# 8. Write a Python program to print odd numbers in a List?"
   ]
  },
  {
   "cell_type": "code",
   "execution_count": 8,
   "id": "13c1b2d6",
   "metadata": {},
   "outputs": [
    {
     "data": {
      "text/plain": [
       "[113, 79, 43, 57, 443, 99]"
      ]
     },
     "execution_count": 8,
     "metadata": {},
     "output_type": "execute_result"
    }
   ],
   "source": [
    "def odd_num_list(list_input):\n",
    "    l=[]\n",
    "    if type(list_input)!=list:\n",
    "        print(\"Please provide list only\")\n",
    "    if type(list_input)==list:\n",
    "        for i in list_input:\n",
    "            if type(i)==int and i>=2:\n",
    "                if i%2!=0:\n",
    "                    l.append(i)\n",
    "        return l\n",
    "odd_num_list([113,79,43,57,534,788,56,0.08,2+7j,\"lantav\",443,99,[1,2,3454]])"
   ]
  },
  {
   "cell_type": "markdown",
   "id": "d9335937",
   "metadata": {},
   "source": [
    "# 9. Write a Python program to Remove empty List from List?"
   ]
  },
  {
   "cell_type": "code",
   "execution_count": 9,
   "id": "cd821887",
   "metadata": {},
   "outputs": [
    {
     "data": {
      "text/plain": [
       "[113, 79, 43, 57, 534, 788, 56, 0.08, (2+7j), 'lantav', 443, 99, [1, 2, 3454]]"
      ]
     },
     "execution_count": 9,
     "metadata": {},
     "output_type": "execute_result"
    }
   ],
   "source": [
    "def remove_empty_list(list_input):\n",
    "    if type(list_input)!=list:\n",
    "        print(\"Please provide list only\")\n",
    "    if type(list_input)==list:\n",
    "        for i in list_input:\n",
    "            if type(i)==list and len(i)==0:\n",
    "                list_input.remove(i)\n",
    "        return list_input\n",
    "remove_empty_list([113,79,[],43,57,534,788,[],56,0.08,2+7j,\"lantav\",443,99,[1,2,3454],[]])"
   ]
  },
  {
   "cell_type": "markdown",
   "id": "5017dc7a",
   "metadata": {},
   "source": [
    "# 10. Write a Python program to Cloning or Copying a list?"
   ]
  },
  {
   "cell_type": "code",
   "execution_count": 10,
   "id": "8c9a7f80",
   "metadata": {},
   "outputs": [
    {
     "data": {
      "text/plain": [
       "[113, 79, 43, 57, 534, 788, 56, 0.08, (2+7j), 'lantav', 443, 99, [1, 2, 3454]]"
      ]
     },
     "execution_count": 10,
     "metadata": {},
     "output_type": "execute_result"
    }
   ],
   "source": [
    "def copy_list(list_input):\n",
    "    copy_of_list=[]\n",
    "    if type(list_input)!=list:\n",
    "        print(\"Please provide list only\")\n",
    "    if type(list_input)==list:\n",
    "        for i in list_input:\n",
    "            copy_of_list.append(i)\n",
    "        return copy_of_list\n",
    "copy_list([113,79,43,57,534,788,56,0.08,2+7j,\"lantav\",443,99,[1,2,3454]])"
   ]
  },
  {
   "cell_type": "markdown",
   "id": "86980aac",
   "metadata": {},
   "source": [
    "# 11. Write a Python program to Count occurrences of an element in a list?"
   ]
  },
  {
   "cell_type": "code",
   "execution_count": 11,
   "id": "df83d349",
   "metadata": {},
   "outputs": [
    {
     "data": {
      "text/plain": [
       "4"
      ]
     },
     "execution_count": 11,
     "metadata": {},
     "output_type": "execute_result"
    }
   ],
   "source": [
    "def count_element(n,list_input):\n",
    "    \n",
    "    if type(list_input)!=list:\n",
    "        print(\"Please provide list only\")\n",
    "    if type(list_input)==list:\n",
    "           return list_input.count(n)\n",
    "         \n",
    "count_element(113,[66,78,33,113,99,113,113,566,336,452,113])"
   ]
  }
 ],
 "metadata": {
  "kernelspec": {
   "display_name": "Python 3 (ipykernel)",
   "language": "python",
   "name": "python3"
  },
  "language_info": {
   "codemirror_mode": {
    "name": "ipython",
    "version": 3
   },
   "file_extension": ".py",
   "mimetype": "text/x-python",
   "name": "python",
   "nbconvert_exporter": "python",
   "pygments_lexer": "ipython3",
   "version": "3.9.12"
  }
 },
 "nbformat": 4,
 "nbformat_minor": 5
}
