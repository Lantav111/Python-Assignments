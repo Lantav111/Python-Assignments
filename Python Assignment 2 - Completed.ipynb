{
 "cells": [
  {
   "cell_type": "code",
   "execution_count": 6,
   "id": "bcef1a8e",
   "metadata": {},
   "outputs": [
    {
     "name": "stdout",
     "output_type": "stream",
     "text": [
      "Enter distance in kilometers = 873\n",
      "873 kilometres equals 542.133 in miles\n"
     ]
    }
   ],
   "source": [
    "         # Python Assignment - 2 \n",
    "    \n",
    "#1. Write a Python program to convert kilometers to miles?\n",
    "Kilometer=int(input(\"Enter distance in kilometers = \"))\n",
    "miles=0.621 * Kilometer\n",
    "print(Kilometer,\"kilometres equals\",miles,\"in miles\")"
   ]
  },
  {
   "cell_type": "code",
   "execution_count": 5,
   "id": "cbcc009c",
   "metadata": {},
   "outputs": [
    {
     "name": "stdout",
     "output_type": "stream",
     "text": [
      "Enter Temperature in Celsius = 77\n",
      "77 Celsius equals 170.6 in Fahrenheit\n"
     ]
    }
   ],
   "source": [
    "#2.Write a Python program to convert Celsius to Fahrenheit?\n",
    "Celsius=int(input(\"Enter Temperature in Celsius = \"))\n",
    "Fahrenheit=(Celsius * 1.8) +32\n",
    "print(Celsius,\"Celsius equals\",Fahrenheit,\"in Fahrenheit\")"
   ]
  },
  {
   "cell_type": "code",
   "execution_count": 1,
   "id": "bbcb5dc9",
   "metadata": {},
   "outputs": [
    {
     "name": "stdout",
     "output_type": "stream",
     "text": [
      "Enter year in yyyy Format = 2022\n",
      "Enter month in mm format = 08\n",
      "    August 2022\n",
      "Mo Tu We Th Fr Sa Su\n",
      " 1  2  3  4  5  6  7\n",
      " 8  9 10 11 12 13 14\n",
      "15 16 17 18 19 20 21\n",
      "22 23 24 25 26 27 28\n",
      "29 30 31\n",
      "\n"
     ]
    }
   ],
   "source": [
    "#3. Write a Python program to display calendar?\n",
    "import calendar\n",
    "yyyy=int(input(\"Enter year in yyyy Format = \"))\n",
    "mm=int(input(\"Enter month in mm format = \"))\n",
    "print(calendar.month(yyyy,mm))"
   ]
  },
  {
   "cell_type": "code",
   "execution_count": 11,
   "id": "df648368",
   "metadata": {},
   "outputs": [
    {
     "name": "stdout",
     "output_type": "stream",
     "text": [
      "Enter a = 1\n",
      "Enter b = -3\n",
      "Enter c = 2\n",
      "Roots of Quadratic Equation are 2.0 and 1.0\n"
     ]
    }
   ],
   "source": [
    "#4. Write a Python program to solve quadratic equation?\n",
    "#Let Quadratic equation Q=a*(x*x)+b*x+c\n",
    "import math\n",
    "a=int(input(\"Enter a = \"))\n",
    "b=int(input(\"Enter b = \"))\n",
    "c=int(input(\"Enter c = \"))\n",
    "D=math.sqrt((b*b)-4*a*c)\n",
    "x=((-1)*b +D)/(2*a)\n",
    "y=((-1)*b -D)/(2*a)\n",
    "Q=a*(x*x)+b*x+c\n",
    "print(\"Roots of Quadratic Equation are\",x,\"and\",y)"
   ]
  },
  {
   "cell_type": "code",
   "execution_count": 10,
   "id": "7b80c951",
   "metadata": {},
   "outputs": [
    {
     "name": "stdout",
     "output_type": "stream",
     "text": [
      "Enter value x = 1\n",
      "Enter value y = lantav\n",
      "Values before swapping are  1 and lantav\n",
      "Values after swapping are  lantav and 1\n"
     ]
    }
   ],
   "source": [
    "#5. Write a Python program to swap two variables without temp variable?\n",
    "x=input(\"Enter value x = \")\n",
    "y=input(\"Enter value y = \")\n",
    "print(\"Values before swapping are \",x,\"and\",y)\n",
    "x,y=y,x\n",
    "print(\"Values after swapping are \",x,\"and\",y)"
   ]
  },
  {
   "cell_type": "code",
   "execution_count": null,
   "id": "c85954a2",
   "metadata": {},
   "outputs": [],
   "source": []
  }
 ],
 "metadata": {
  "kernelspec": {
   "display_name": "Python 3 (ipykernel)",
   "language": "python",
   "name": "python3"
  },
  "language_info": {
   "codemirror_mode": {
    "name": "ipython",
    "version": 3
   },
   "file_extension": ".py",
   "mimetype": "text/x-python",
   "name": "python",
   "nbconvert_exporter": "python",
   "pygments_lexer": "ipython3",
   "version": "3.9.12"
  }
 },
 "nbformat": 4,
 "nbformat_minor": 5
}
