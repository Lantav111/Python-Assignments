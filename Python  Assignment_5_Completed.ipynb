{
 "cells": [
  {
   "cell_type": "markdown",
   "id": "36bcf2ae",
   "metadata": {},
   "source": [
    "# 1. Write a Python Program to Find LCM?"
   ]
  },
  {
   "cell_type": "code",
   "execution_count": 1,
   "id": "6a663cd1",
   "metadata": {},
   "outputs": [
    {
     "name": "stdout",
     "output_type": "stream",
     "text": [
      "Enter first number : 8\n",
      "Enter second number : 12\n"
     ]
    },
    {
     "data": {
      "text/plain": [
       "('LCM of given number is : ', 24)"
      ]
     },
     "execution_count": 1,
     "metadata": {},
     "output_type": "execute_result"
    }
   ],
   "source": [
    "firstnum=int(input(\"Enter first number : \"))\n",
    "secondnum=int(input(\"Enter second number : \"))\n",
    "def find_LCM(firstnum,secondnum):\n",
    "    if (secondnum%firstnum)==0:\n",
    "        return(\"LCM of given number is : \",secondnum)\n",
    "    if firstnum%secondnum==0:\n",
    "            return(\"LCM of given number is : \",firstnum)\n",
    "    if (firstnum%secondnum!=0)& (secondnum%firstnum!=0) :\n",
    "        if firstnum>secondnum:\n",
    "            for i in range(secondnum,(secondnum*firstnum)+1):\n",
    "                if i%firstnum==0 and i%secondnum==0:\n",
    "                    return(\"LCM of given number is : \",i)\n",
    "                    break\n",
    "        if firstnum<secondnum:\n",
    "            for i in range(firstnum,(secondnum*firstnum)+1):\n",
    "                if i%firstnum==0 and i%secondnum==0:\n",
    "                    return(\"LCM of given number is : \",i)\n",
    "                    break\n",
    "        \n",
    "        \n",
    "\n",
    "find_LCM(firstnum,secondnum)   "
   ]
  },
  {
   "cell_type": "markdown",
   "id": "4249d949",
   "metadata": {},
   "source": [
    "# 2. Write a Python Program to Find HCF?"
   ]
  },
  {
   "cell_type": "code",
   "execution_count": 2,
   "id": "784c9a4a",
   "metadata": {},
   "outputs": [
    {
     "name": "stdout",
     "output_type": "stream",
     "text": [
      "Enter first number : 2\n",
      "Enter second number : 8\n",
      "HCF of given number is :  2.0\n"
     ]
    }
   ],
   "source": [
    "firstno=int(input(\"Enter first number : \"))\n",
    "secondno=int(input(\"Enter second number : \"))\n",
    "l=[find_LCM(firstno,secondno)]\n",
    "print(\"HCF of given number is : \",(firstno*secondno)/l[0][1])\n"
   ]
  },
  {
   "cell_type": "markdown",
   "id": "910f9b5a",
   "metadata": {},
   "source": [
    "# 3. Write a Python Program to Convert Decimal to Binary, Octal and Hexadecimal?"
   ]
  },
  {
   "cell_type": "code",
   "execution_count": 3,
   "id": "695ea2c0",
   "metadata": {},
   "outputs": [
    {
     "name": "stdout",
     "output_type": "stream",
     "text": [
      "Enter your integer number : 16666\n",
      "Enter B to convert your decimal number to Binary\n",
      "Enter O to convert your decimal number to Octal\n",
      "Enter H to convert your decimal number to Hexadecimal\n",
      "Enter B/O/H: H\n",
      "Decimal to Hexadecimal [4, 1, 1, 'A']\n"
     ]
    }
   ],
   "source": [
    "number_input=int(input(\"Enter your integer number : \"))\n",
    "print(\"Enter B to convert your decimal number to Binary\")\n",
    "print(\"Enter O to convert your decimal number to Octal\")\n",
    "print(\"Enter H to convert your decimal number to Hexadecimal\")\n",
    "Conversion=input(\"Enter B/O/H: \")\n",
    "def decimal_to_binary(number_input):\n",
    "    lb=[]\n",
    "    while int(number_input/2)>0:\n",
    "        lb.append(number_input%2)\n",
    "        number_input=int(number_input/2)\n",
    "    lb.insert(0,number_input)\n",
    "    return lb\n",
    "\n",
    "def decimal_to_octal(number_input):\n",
    "    lb8=[]\n",
    "    while int(number_input/8)>0:\n",
    "        lb8.append(number_input%8)\n",
    "        number_input=int(number_input/8)\n",
    "    lb_08=lb8[::-1]\n",
    "    lb_08.insert(0,number_input)\n",
    "    return lb_08\n",
    "decimal_to_octal(number_input)\n",
    "\n",
    "def decimal_to_hexadecimal(number_input):\n",
    "    lb8=[]\n",
    "    while int(number_input/16)>0:\n",
    "        lb8.append(number_input%16)\n",
    "        number_input=int(number_input/16)\n",
    "    lb_16=lb8[::-1]\n",
    "    lb_16.insert(0,number_input)\n",
    "    for i in range(len(lb_16)):\n",
    "        if lb_16[i]==10:\n",
    "            lb_16[i]='A'\n",
    "        if lb_16[i]==11:\n",
    "            lb_16[i]='B'\n",
    "        if lb_16[i]==12:\n",
    "            lb_16[i]='C'\n",
    "        if lb_16[i]==13:\n",
    "            lb_16[i]='D'\n",
    "        if lb_16[i]==14:\n",
    "            lb_16[i]='E'\n",
    "        if lb_16[i]==15:\n",
    "            lb_16[i]='F'\n",
    "    return lb_16\n",
    "if Conversion=='B':\n",
    "    print('Decimal to Binary',decimal_to_binary(number_input))\n",
    "if Conversion=='O':\n",
    "    print('Decimal to Octal',decimal_to_octal(number_input))\n",
    "if Conversion=='H':\n",
    "    print('Decimal to Hexadecimal',decimal_to_hexadecimal(number_input))"
   ]
  },
  {
   "cell_type": "markdown",
   "id": "b053dc09",
   "metadata": {},
   "source": [
    "# 4. Write a Python Program To Find ASCII value of a character?"
   ]
  },
  {
   "cell_type": "code",
   "execution_count": 4,
   "id": "432d0d15",
   "metadata": {},
   "outputs": [
    {
     "name": "stdout",
     "output_type": "stream",
     "text": [
      "Enter your charactery\n",
      "ASCII Value of y is :  121\n"
     ]
    }
   ],
   "source": [
    "character=input('Enter your character')\n",
    "print(\"ASCII Value of {} is : \".format(character),ord(character))"
   ]
  },
  {
   "cell_type": "markdown",
   "id": "2d09af22",
   "metadata": {},
   "source": [
    "# 5. Write a Python Program to Make a Simple Calculator with 4 basic mathematical operations?"
   ]
  },
  {
   "cell_type": "code",
   "execution_count": 5,
   "id": "71f31b60",
   "metadata": {},
   "outputs": [
    {
     "name": "stdout",
     "output_type": "stream",
     "text": [
      "Enter first number : 12\n",
      "Enter second number : 31\n",
      "Press A to add\n",
      "Press P for Product\n",
      "Press D to Divide\n",
      "Press S to Substract\n",
      "Enter what operation you want to perform A/P/D/S : P\n",
      "Product : 372\n"
     ]
    }
   ],
   "source": [
    "x=int(input(\"Enter first number : \"))\n",
    "y=int(input(\"Enter second number : \"))\n",
    "print(\"Press A to add\")\n",
    "print(\"Press P for Product\")\n",
    "print(\"Press D to Divide\")\n",
    "print(\"Press S to Substract\")\n",
    "Math_operation=input(\"Enter what operation you want to perform A/P/D/S : \")\n",
    "\n",
    "if Math_operation=='A':\n",
    "    print(\"Sum : {} \".format(x+y))\n",
    "if Math_operation=='P':   \n",
    "    print(\"Product : {}\".format(x*y))\n",
    "if Math_operation=='D':\n",
    "    print(\"Quotient : {} \".format(y/x))\n",
    "if Math_operation=='S':\n",
    "    print(\"Substraction : {}\".format(y-x))\n"
   ]
  }
 ],
 "metadata": {
  "kernelspec": {
   "display_name": "Python 3 (ipykernel)",
   "language": "python",
   "name": "python3"
  },
  "language_info": {
   "codemirror_mode": {
    "name": "ipython",
    "version": 3
   },
   "file_extension": ".py",
   "mimetype": "text/x-python",
   "name": "python",
   "nbconvert_exporter": "python",
   "pygments_lexer": "ipython3",
   "version": "3.9.12"
  }
 },
 "nbformat": 4,
 "nbformat_minor": 5
}
