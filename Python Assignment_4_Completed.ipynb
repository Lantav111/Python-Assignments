{
 "cells": [
  {
   "cell_type": "markdown",
   "id": "5ecca679",
   "metadata": {},
   "source": [
    "# 1. Write a Python Program to Find the Factorial of a Number?"
   ]
  },
  {
   "cell_type": "code",
   "execution_count": 1,
   "id": "7152b31e",
   "metadata": {},
   "outputs": [
    {
     "name": "stdout",
     "output_type": "stream",
     "text": [
      "Enter the numberfor which you want to find factorial : 6\n",
      "720 is the factorial of your input number\n"
     ]
    }
   ],
   "source": [
    "#Answer-1\n",
    "i=int(input(\"Enter the numberfor which you want to find factorial : \"))\n",
    "n=1\n",
    "while i>1:\n",
    "    n=n*(i)\n",
    "    i=i-1\n",
    "print(\"{} is the factorial of your input number\".format(n))"
   ]
  },
  {
   "cell_type": "markdown",
   "id": "9043001d",
   "metadata": {},
   "source": [
    "# 2. Write a Python Program to Display the multiplication Table?"
   ]
  },
  {
   "cell_type": "code",
   "execution_count": 2,
   "id": "a94d016d",
   "metadata": {},
   "outputs": [
    {
     "name": "stdout",
     "output_type": "stream",
     "text": [
      "Enter the number for which you want multiplication table  : 9\n",
      "9*1= 9\n",
      "9*2= 18\n",
      "9*3= 27\n",
      "9*4= 36\n",
      "9*5= 45\n",
      "9*6= 54\n",
      "9*7= 63\n",
      "9*8= 72\n",
      "9*9= 81\n",
      "9*10= 90\n"
     ]
    }
   ],
   "source": [
    "#Answer-2\n",
    "user_input=int(input(\"Enter the number for which you want multiplication table  : \"))\n",
    "\n",
    "for i in range(1,11):\n",
    "    print(\"{}*{}=\".format(user_input,i),user_input*i)"
   ]
  },
  {
   "cell_type": "markdown",
   "id": "7e752840",
   "metadata": {},
   "source": [
    "# 3. Write a Python Program to Print the Fibonacci sequence?"
   ]
  },
  {
   "cell_type": "markdown",
   "id": "67fdf8fb",
   "metadata": {},
   "source": [
    "Fibonacci sequence, in which each number is the sum of the two preceding ones"
   ]
  },
  {
   "cell_type": "code",
   "execution_count": 3,
   "id": "bd315945",
   "metadata": {},
   "outputs": [
    {
     "name": "stdout",
     "output_type": "stream",
     "text": [
      "Enter the length for which you want Fibonacci sequence  : 7\n",
      "Your Fibonacci Sequesnce is :  [0, 1, 1, 2, 3, 5, 8]\n"
     ]
    }
   ],
   "source": [
    "#Answer-3\n",
    "Fibonacci_length=int(input(\"Enter the length for which you want Fibonacci sequence  : \"))\n",
    "a=0\n",
    "b=1\n",
    "third=1\n",
    "l=[a,b]\n",
    "for i in range(Fibonacci_length-2):\n",
    "    third=a+b\n",
    "    l.append(third)\n",
    "    a=b\n",
    "    b=third\n",
    "print(\"Your Fibonacci Sequesnce is : \",l)"
   ]
  },
  {
   "cell_type": "markdown",
   "id": "bdda1336",
   "metadata": {},
   "source": [
    "# 4. Write a Python Program to Check Armstrong Number?"
   ]
  },
  {
   "cell_type": "markdown",
   "id": "29191020",
   "metadata": {},
   "source": [
    "An Armstrong number of n digits is an integer such that the sum of the nth power of its digits is equal to the number itself.\n",
    "For example, 371 is an Armstrong number since 3**3 + 7**3 + 1**3 = 371.\n"
   ]
  },
  {
   "cell_type": "markdown",
   "id": "ae9156cd",
   "metadata": {},
   "source": [
    "Note:Here we have used power of a digit for which we have imported math \n",
    "\n",
    "also to take a power of a number use this :\n",
    "    math.pow(number,power)"
   ]
  },
  {
   "cell_type": "code",
   "execution_count": 4,
   "id": "853495f0",
   "metadata": {},
   "outputs": [
    {
     "name": "stdout",
     "output_type": "stream",
     "text": [
      "Enter the positive number for which you want to check if it Armstrong Number   : 1634\n",
      "Yes,it is an Armstrong Number \n"
     ]
    }
   ],
   "source": [
    "#Answer-4\n",
    "import math\n",
    "input_number=(input(\"Enter the positive number for which you want to check if it Armstrong Number   : \"))\n",
    "list_new=[]\n",
    "for i in input_number:\n",
    "    list_new.append(i)\n",
    "list_new2=[]\n",
    "for j in list_new:\n",
    "    list_new2.append(math.pow(int(j),len(list_new)))\n",
    "sum=0\n",
    "for k in list_new2:\n",
    "    sum=sum+k\n",
    "if sum==int(input_number):\n",
    "    print(\"Yes,it is an Armstrong Number \")\n",
    "else:\n",
    "    print(\"No it is not an Armstrong Number\")"
   ]
  },
  {
   "cell_type": "markdown",
   "id": "9950f3a0",
   "metadata": {},
   "source": [
    "# 5. Write a Python Program to Find Armstrong Number in an Interval?"
   ]
  },
  {
   "cell_type": "code",
   "execution_count": 5,
   "id": "1912e235",
   "metadata": {},
   "outputs": [
    {
     "name": "stdout",
     "output_type": "stream",
     "text": [
      "Enter interval starting value : 0\n",
      "Enter interval ending value : 1700\n",
      "Your Armstrong number series for given interval is :  [0, 1, 2, 3, 4, 5, 6, 7, 8, 9, 153, 370, 371, 407, 1634]\n"
     ]
    }
   ],
   "source": [
    "import math\n",
    "start=input(\"Enter interval starting value : \")\n",
    "end=input(\"Enter interval ending value : \")\n",
    "def check_an(input_number):\n",
    "    \n",
    "    list_new=[]\n",
    "    for i in input_number:\n",
    "        list_new.append(i)\n",
    "    list_new2=[]\n",
    "    for j in list_new:\n",
    "        list_new2.append(math.pow(int(j),len(list_new)))\n",
    "    sum=0\n",
    "    for k in list_new2:\n",
    "        sum=sum+k\n",
    "    if sum==int(input_number):\n",
    "        return sum\n",
    "    else:\n",
    "        return(\"No\")\n",
    "list=[]\n",
    "for i in range(int(start),int(end)+1):\n",
    "    if type(check_an(str(i)))==float:\n",
    "        list.append(i)\n",
    "print(\"Your Armstrong number series for given interval is : \",list)"
   ]
  },
  {
   "cell_type": "markdown",
   "id": "83d6d0d7",
   "metadata": {},
   "source": [
    "# 6. Write a Python Program to Find the Sum of Natural Numbers?"
   ]
  },
  {
   "cell_type": "code",
   "execution_count": 6,
   "id": "9778d8fa",
   "metadata": {},
   "outputs": [
    {
     "name": "stdout",
     "output_type": "stream",
     "text": [
      "Enter ,till how many natural numbers you want the sum : 6\n",
      "Sum of 6 natural numbers is :  21.0\n"
     ]
    }
   ],
   "source": [
    "#Answer-6\n",
    "user_length=int(input(\"Enter ,till how many natural numbers you want the sum : \"))\n",
    "print(\"Sum of {} natural numbers is : \".format(user_length),(user_length*(user_length+1))/2)"
   ]
  }
 ],
 "metadata": {
  "kernelspec": {
   "display_name": "Python 3 (ipykernel)",
   "language": "python",
   "name": "python3"
  },
  "language_info": {
   "codemirror_mode": {
    "name": "ipython",
    "version": 3
   },
   "file_extension": ".py",
   "mimetype": "text/x-python",
   "name": "python",
   "nbconvert_exporter": "python",
   "pygments_lexer": "ipython3",
   "version": "3.9.12"
  }
 },
 "nbformat": 4,
 "nbformat_minor": 5
}
