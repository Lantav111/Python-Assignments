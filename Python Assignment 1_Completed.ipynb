{
 "cells": [
  {
   "cell_type": "code",
   "execution_count": 1,
   "id": "a2afc554",
   "metadata": {},
   "outputs": [
    {
     "name": "stdout",
     "output_type": "stream",
     "text": [
      "Hello Python\n"
     ]
    }
   ],
   "source": [
    "#Programming Assignment_1\n",
    "#1. Write a Python program to print \"Hello Python\"?\n",
    "print(\"Hello Python\")"
   ]
  },
  {
   "cell_type": "code",
   "execution_count": 2,
   "id": "2b56769b",
   "metadata": {},
   "outputs": [
    {
     "name": "stdout",
     "output_type": "stream",
     "text": [
      "Enter First number = 34\n",
      "Enter Seconf number = 55\n",
      "Enter Second number = 67\n",
      "Average of provided 3 numbers is =  52.0\n"
     ]
    }
   ],
   "source": [
    "#2. Write a Python program to do arithmetical operations addition and division.?\n",
    "#Let us calculate the average of 3 input numbers\n",
    "a=int(input(\"Enter First number = \"))\n",
    "b=int(input(\"Enter Seconf number = \"))\n",
    "c=int(input(\"Enter Second number = \"))\n",
    "Average= (a+b+c)/3\n",
    "print(\"Average of provided 3 numbers is = \",Average)"
   ]
  },
  {
   "cell_type": "code",
   "execution_count": 3,
   "id": "f4ac8738",
   "metadata": {},
   "outputs": [
    {
     "name": "stdout",
     "output_type": "stream",
     "text": [
      "Enter Height of traingle = 5\n",
      "Enter Base of Triangle = 2\n",
      "Area of Triangle =  5.0\n"
     ]
    }
   ],
   "source": [
    "#3. Write a Python program to find the area of a triangle?\n",
    "Height=int(input(\"Enter Height of traingle = \"))\n",
    "Base=int(input(\"Enter Base of Triangle = \"))\n",
    "Area=0.5 * Height * Base\n",
    "print(\"Area of Triangle = \",Area)\n"
   ]
  },
  {
   "cell_type": "code",
   "execution_count": 4,
   "id": "c5b31fa0",
   "metadata": {},
   "outputs": [
    {
     "name": "stdout",
     "output_type": "stream",
     "text": [
      "Enter value x = 6\n",
      "Enter value y = 4\n",
      "Value 6 and 4 are without swapping intially\n",
      "Value 4 and 6 are with swapping\n"
     ]
    }
   ],
   "source": [
    "#4. Write a Python program to swap two variables?\n",
    "x=(input(\"Enter value x = \"))\n",
    "y=(input(\"Enter value y = \"))\n",
    "print(\"Value\",x,\"and\",y,\"are without swapping intially\")\n",
    "c=x\n",
    "x=y\n",
    "y=c\n",
    "print(\"Value\",x,\"and\",y,\"are with swapping\")\n"
   ]
  },
  {
   "cell_type": "code",
   "execution_count": 5,
   "id": "8d7f1f05",
   "metadata": {},
   "outputs": [
    {
     "data": {
      "text/plain": [
       "2"
      ]
     },
     "execution_count": 5,
     "metadata": {},
     "output_type": "execute_result"
    }
   ],
   "source": [
    "#5. Write a Python program to generate a random number?\n",
    "import random\n",
    "a=random.randint(0,10)\n",
    "a"
   ]
  },
  {
   "cell_type": "code",
   "execution_count": null,
   "id": "6a878678",
   "metadata": {},
   "outputs": [],
   "source": []
  }
 ],
 "metadata": {
  "kernelspec": {
   "display_name": "Python 3 (ipykernel)",
   "language": "python",
   "name": "python3"
  },
  "language_info": {
   "codemirror_mode": {
    "name": "ipython",
    "version": 3
   },
   "file_extension": ".py",
   "mimetype": "text/x-python",
   "name": "python",
   "nbconvert_exporter": "python",
   "pygments_lexer": "ipython3",
   "version": "3.9.12"
  }
 },
 "nbformat": 4,
 "nbformat_minor": 5
}
